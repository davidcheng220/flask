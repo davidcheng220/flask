{
 "cells": [
  {
   "cell_type": "markdown",
   "metadata": {},
   "source": [
    "## Connection and Select and Insert"
   ]
  },
  {
   "cell_type": "code",
   "execution_count": 42,
   "metadata": {},
   "outputs": [],
   "source": [
    "import pymysql"
   ]
  },
  {
   "cell_type": "code",
   "execution_count": 43,
   "metadata": {},
   "outputs": [
    {
     "name": "stdout",
     "output_type": "stream",
     "text": [
      "connect!\n"
     ]
    }
   ],
   "source": [
    "conn = pymysql.connect(\n",
    "    host='localhost',         # 資料庫伺服器位址\n",
    "    user='root',     # 用戶名\n",
    "    password='password', # 密碼\n",
    "    database='TESTDB', # 資料庫名稱\n",
    "    port=3306,                # 預設埠號\n",
    "    charset='utf8mb4'         # 字元編碼\n",
    ")\n",
    "print(\"connect!\")"
   ]
  },
  {
   "cell_type": "code",
   "execution_count": null,
   "metadata": {},
   "outputs": [],
   "source": [
    "# 連線sql的游標\n",
    "cursor = conn.cursor()\n",
    "print(\"cursor connect\")"
   ]
  },
  {
   "cell_type": "code",
   "execution_count": null,
   "metadata": {},
   "outputs": [],
   "source": [
    "# 試著 INSERT 一筆資料\n",
    "# 注意 TABLE 欄位的資料型態\n",
    "\n",
    "# 先寫好 SQL 語法\n",
    "sql = \"\"\"\n",
    "INSERT INTO Staff (ID, Name, DeptId, Age, Gender, Salary, recordDt)\n",
    "VALUES ('001', 'Mike', '002', 45, 'M', 60000, '2020-04-24 14:59:57');\n",
    "\"\"\"\n",
    "\n",
    "# 將指令放進 cursor 物件，並執行\n",
    "cursor.execute(sql)\n"
   ]
  },
  {
   "cell_type": "code",
   "execution_count": null,
   "metadata": {},
   "outputs": [],
   "source": [
    "# 將資料傳送到sql裡面 SQL transaction\n",
    "conn.commit()"
   ]
  },
  {
   "cell_type": "code",
   "execution_count": null,
   "metadata": {},
   "outputs": [],
   "source": [
    "select_sql = \"\"\"\n",
    "SELECT \n",
    "    ID,\n",
    "    Name,\n",
    "    DeptId,\n",
    "    Age,\n",
    "    Gender,\n",
    "    Salary,\n",
    "    recordDt\n",
    "FROM Staff\n",
    "\"\"\"\n",
    "cursor.execute(select_sql)\n"
   ]
  },
  {
   "cell_type": "code",
   "execution_count": null,
   "metadata": {},
   "outputs": [
    {
     "data": {
      "text/plain": [
       "[]"
      ]
     },
     "execution_count": 35,
     "metadata": {},
     "output_type": "execute_result"
    }
   ],
   "source": [
    "data = [row for row in cursor.fetchall()]\n",
    "# fechall 全部\n",
    "# fechmany 部分\n",
    "# fechone 只取一個\n",
    "data"
   ]
  },
  {
   "cell_type": "code",
   "execution_count": null,
   "metadata": {},
   "outputs": [
    {
     "data": {
      "text/plain": [
       "()"
      ]
     },
     "execution_count": 25,
     "metadata": {},
     "output_type": "execute_result"
    }
   ],
   "source": [
    "# 再讀一次的話就會把東西是放出去不會再處理\n",
    "# cursor.fetchall()"
   ]
  },
  {
   "cell_type": "code",
   "execution_count": 47,
   "metadata": {},
   "outputs": [],
   "source": [
    "cursor.close()\n",
    "conn.close()"
   ]
  },
  {
   "cell_type": "markdown",
   "metadata": {},
   "source": [
    "## Insert many"
   ]
  },
  {
   "cell_type": "code",
   "execution_count": 46,
   "metadata": {},
   "outputs": [],
   "source": [
    "# 先寫好 SQL 語法\n",
    "# 並將語法中會不斷改變的部分挖空 ( %s )\n",
    "sql_insert = \"\"\"\n",
    "INSERT INTO Staff (ID, Name, DeptId, Age, Gender, Salary, recordDt)\n",
    "VALUES (%s, %s, %s, %s, %s, %s, %s);\n",
    "\"\"\"\n",
    "\n",
    "values = [\n",
    " ('002', 'Judy', '002', '30', 'F', '48000', '2020-10-13 21:41:49'),\n",
    " ('003', 'Allen', '001', '22', 'M', '50000', '2020-10-13 21:41:49'),\n",
    " ('004', 'Tom', '002', '47', 'M', '47000', '2020-10-13 21:41:49'),\n",
    " ('005', 'Jack', '003', '36', 'M', '52000', '2020-10-13 21:41:49'),\n",
    " ('006', 'Abby', '002', '24', 'F', '45000', '2020-10-13 21:41:49'),\n",
    " ('007', 'Trump', '001', '80', 'M', '80000', '2020-10-13 21:41:49'),\n",
    " ('008', 'Marry', '003', '29', 'F', '87000', '2020-10-13 21:41:49')]\n",
    "\n",
    "cursor.executemany(sql_insert, values)\n",
    "\n",
    "conn.commit()"
   ]
  },
  {
   "cell_type": "markdown",
   "metadata": {},
   "source": [
    "## Try Except"
   ]
  },
  {
   "cell_type": "code",
   "execution_count": null,
   "metadata": {},
   "outputs": [],
   "source": [
    "from pymysql.err import IntegrityError, InternalError\n",
    "def insertData(host='localhost', port=3306, user='root', passwd='root', db='TESTDB', charset='utf8mb4'):\n",
    "    effectedRow = -1\n",
    "    \n",
    "    try:\n",
    "        conn = pymysql.connect(host=host, port=port, user=user, passwd=passwd, db=db, charset=charset)\n",
    "    except RuntimeError as e:\n",
    "        print(e)\n",
    "        return -1\n",
    "    except InternalError as e:\n",
    "        print(e)\n",
    "        return -1\n",
    "\n",
    "    cursor = conn.cursor()\n",
    "\n",
    "    sql_insert = \"\"\"\n",
    "    INSERT INTO Staff (ID, Name, DeptId, Age, Gender, Salary, recordDt)\n",
    "    VALUES ('001', 'Mike', '002', '45', 'M', '60000', '2020-04-29 21:04:52');\n",
    "    \"\"\"\n",
    "\n",
    "    try:\n",
    "        effectedRow = cursor.execute(sql_insert)\n",
    "    except IntegrityError as e:\n",
    "        sql_delete = \"\"\"DELETE FROM Staff WHERE ID = '001';\"\"\"\n",
    "        cursor.execute(sql_delete)\n",
    "        effectedRow = cursor.execute(sql_insert)\n",
    "    except:\n",
    "        pass\n",
    "    finally:\n",
    "        conn.commit()\n",
    "        cursor.close()\n",
    "        conn.close()\n",
    "    return effectedRow\n"
   ]
  }
 ],
 "metadata": {
  "kernelspec": {
   "display_name": "flask",
   "language": "python",
   "name": "python3"
  },
  "language_info": {
   "codemirror_mode": {
    "name": "ipython",
    "version": 3
   },
   "file_extension": ".py",
   "mimetype": "text/x-python",
   "name": "python",
   "nbconvert_exporter": "python",
   "pygments_lexer": "ipython3",
   "version": "3.8.10"
  }
 },
 "nbformat": 4,
 "nbformat_minor": 2
}
